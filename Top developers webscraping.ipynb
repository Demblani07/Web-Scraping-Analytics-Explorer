{
 "cells": [
  {
   "cell_type": "code",
   "execution_count": 1,
   "id": "60a747ba",
   "metadata": {},
   "outputs": [],
   "source": [
    "# library import\n",
    "import requests\n",
    "import pandas as pd\n",
    "from bs4 import BeautifulSoup"
   ]
  },
  {
   "cell_type": "code",
   "execution_count": 2,
   "id": "0ae210ac",
   "metadata": {},
   "outputs": [
    {
     "name": "stdout",
     "output_type": "stream",
     "text": [
      "https://www.topdevelopers.co/directory/big-data-analytics-companies?page=1\n"
     ]
    }
   ],
   "source": [
    "response = requests.get(\"https://www.topdevelopers.co/directory/big-data-analytics-companies?page=1\")\n",
    "print(response.url)"
   ]
  },
  {
   "cell_type": "code",
   "execution_count": 4,
   "id": "97456ed2",
   "metadata": {},
   "outputs": [
    {
     "name": "stdout",
     "output_type": "stream",
     "text": [
      "200\n"
     ]
    }
   ],
   "source": [
    "print(response.status_code)"
   ]
  },
  {
   "cell_type": "code",
   "execution_count": 40,
   "id": "14ca8955",
   "metadata": {},
   "outputs": [],
   "source": [
    "soup = BeautifulSoup(response.content,\"html.parser\")\n",
    "main_link = soup.find(\"div\",class_=\"col-xl-12 col-lg-12 comp_listing list_holder\")\n",
    "#print(main_link)"
   ]
  },
  {
   "cell_type": "code",
   "execution_count": 65,
   "id": "6109f977",
   "metadata": {},
   "outputs": [],
   "source": [
    "name = []\n",
    "name1 = main_link.find_all(\"span\", itemprop=\"name\")\n",
    "for item in name1:\n",
    "    name.append(item.text.strip())"
   ]
  },
  {
   "cell_type": "code",
   "execution_count": 69,
   "id": "4185084d",
   "metadata": {},
   "outputs": [],
   "source": [
    "discrb = []\n",
    "discrb1= main_link.find_all(\"span\",itemprop=\"description\")\n",
    "for i in discrb1:\n",
    "    discrb.append(i.text.strip())"
   ]
  },
  {
   "cell_type": "code",
   "execution_count": 71,
   "id": "f068ad23",
   "metadata": {},
   "outputs": [],
   "source": [
    "emp = []\n",
    "emp1 = main_link.find_all(\"div\",class_=\"col-12 col-sm-6 col-md-3 col-lg-3 col-xl-3 order-0 order-md-1\")\n",
    "for i in emp1:                         \n",
    "    p_tage = i.find_all(\"p\",class_=\"mb-0 set_es_p\")[0]\n",
    "    emp.append(p_tage.text)"
   ]
  },
  {
   "cell_type": "code",
   "execution_count": 74,
   "id": "755f6904",
   "metadata": {},
   "outputs": [
    {
     "name": "stdout",
     "output_type": "stream",
     "text": [
      "['$26 - $50', '$26 - $50', '$51 - $100', '$26 - $50', '$26 - $50', '$201 - $300', '$51 - $100', 'Up to $25', '$26 - $50', '$26 - $50', '$51 - $100', '$101 - $150', '$51 - $100', '$26 - $50', '$51 - $100', '$26 - $50', 'Up to $25', 'Up to $25', 'Up to $25', 'Up to $25', '$26 - $50', 'Up to $25', 'Up to $25', '$26 - $50', '$26 - $50', '$26 - $50', '$51 - $100', '$51 - $100', '$151 - $200', 'Up to $25', 'Up to $25', '$51 - $100', '$26 - $50', '$26 - $50', '$101 - $150']\n"
     ]
    }
   ],
   "source": [
    "per_hour_cost = []\n",
    "per_hour_cost1 = main_link.find_all(\"div\",class_=\"col-12 col-sm-6 col-md-3 col-lg-3 col-xl-3 order-2 order-md-3\")\n",
    "for i in per_hour_cost1:                         \n",
    "    p_tage = i.find_all(\"p\",class_=\"mb-0 set_es_p\")[0]\n",
    "    per_hour_cost.append(p_tage.text.strip())"
   ]
  },
  {
   "cell_type": "code",
   "execution_count": 75,
   "id": "ae384632",
   "metadata": {},
   "outputs": [
    {
     "name": "stdout",
     "output_type": "stream",
     "text": [
      "['$10001 - $25000', '$10001 - $25000', '$10001 - $25000', 'Less than - $5000', '$50001 - $100000', '$100001 - $200000', '$25001 - $50000', '$10001 - $25000', '$50001 - $100000', '$50001 - $100000', '$10001 - $25000', '$10001 - $25000', '$5001 - $10000', '$10001 - $25000', '$50001 - $100000', '$5001 - $10000', '$5001 - $10000', '$5001 - $10000', 'Less than - $5000', 'Less than - $5000', '$50001 - $100000', 'Less than - $5000', '$50001 - $100000', '$5001 - $10000', '$50001 - $100000', '$10001 - $25000', '$50001 - $100000', '$25001 - $50000', '$10001 - $25000', 'Less than - $5000', 'Less than - $5000', 'Less than - $5000', '$25001 - $50000', 'Less than - $5000', '$10001 - $25000']\n"
     ]
    }
   ],
   "source": [
    "project_cost = []\n",
    "project_cost1 = main_link.find_all(\"div\",class_=\"col-12 col-sm-6 col-md-3 col-lg-3 col-xl-3 order-3 order-md-4\")\n",
    "for i in project_cost1:                         \n",
    "    p_tage = i.find_all(\"p\",class_=\"mb-0 set_es_p\")[0]\n",
    "    project_cost.append(p_tage.text.strip())"
   ]
  },
  {
   "cell_type": "code",
   "execution_count": 38,
   "id": "6cbb14ac",
   "metadata": {},
   "outputs": [],
   "source": [
    "country = []\n",
    "country1 = main_link.find_all(\"div\",class_=\"col-12 col-sm-6 col-md-3 col-lg-3 col-xl-3 order-4 order-md-5\")\n",
    "for i in project_cost1:                         \n",
    "    p_tage = i.find_all(\"p\",class_=\"mb-0 set_es_p\")[0].text.strip()\n",
    "    country.append(p_tage)"
   ]
  },
  {
   "cell_type": "code",
   "execution_count": 76,
   "id": "cf7a6d00",
   "metadata": {},
   "outputs": [],
   "source": [
    "#merege data"
   ]
  },
  {
   "cell_type": "code",
   "execution_count": 13,
   "id": "9cdba2d9",
   "metadata": {},
   "outputs": [],
   "source": [
    "name = []\n",
    "discrb = []\n",
    "emp = []\n",
    "per_hour_cost = []\n",
    "project_cost = []\n",
    "country = []\n",
    "\n",
    "for i in range(1,28):\n",
    "    url = f\"https://www.topdevelopers.co/directory/big-data-analytics-companies?page={i}\"\n",
    "    response = requests.get(url)\n",
    "    r =response.content\n",
    "    soup = BeautifulSoup(r,\"html.parser\")\n",
    "    main_link = soup.find(\"div\",class_=\"col-xl-12 col-lg-12 comp_listing list_holder\")\n",
    "    \n",
    "    name1 = main_link.find_all(\"span\", itemprop=\"name\")\n",
    "    for item in name1:\n",
    "        name.append(item.text.strip())\n",
    "    \n",
    "    discrb1= main_link.find_all(\"span\",itemprop=\"description\")\n",
    "    for i in discrb1:\n",
    "        discrb.append(i.text.strip())\n",
    "\n",
    "    emp1 = main_link.find_all(\"div\",class_=\"col-12 col-sm-6 col-md-3 col-lg-3 col-xl-3 order-0 order-md-1\")\n",
    "    for i in emp1:                         \n",
    "        p_tage = i.find_all(\"p\",class_=\"mb-0 set_es_p\")[0]\n",
    "        emp.append(p_tage.text)\n",
    "\n",
    "    per_hour_cost1 = main_link.find_all(\"div\",class_=\"col-12 col-sm-6 col-md-3 col-lg-3 col-xl-3 order-2 order-md-3\")\n",
    "    for i in per_hour_cost1:                         \n",
    "        p_tage = i.find_all(\"p\",class_=\"mb-0 set_es_p\")[0]\n",
    "        per_hour_cost.append(p_tage.text.strip())\n",
    "\n",
    "    project_cost1 = main_link.find_all(\"div\",class_=\"col-12 col-sm-6 col-md-3 col-lg-3 col-xl-3 order-3 order-md-4\")\n",
    "    for i in project_cost1:                         \n",
    "        p_tage = i.find_all(\"p\",class_=\"mb-0 set_es_p\")[0]\n",
    "        project_cost.append(p_tage.text.strip())\n",
    "\n",
    "    country1 = main_link.find_all(\"div\",class_=\"col-12 col-sm-6 col-md-3 col-lg-3 col-xl-3 order-4 order-md-5\")\n",
    "    for i in project_cost1:                         \n",
    "        p_tage = i.find_all(\"p\",class_=\"mb-0 set_es_p\")[0].text.strip()\n",
    "        country.append(p_tage)   "
   ]
  },
  {
   "cell_type": "code",
   "execution_count": 14,
   "id": "5dbce8d7",
   "metadata": {},
   "outputs": [],
   "source": [
    "data = {\"Titles\":name,\"discb\":discrb,\n",
    "        \"Number_of_emp\":emp,\n",
    "        \"salary_per_hour\":per_hour_cost,\n",
    "        \"project_budget\":project_cost,\n",
    "        \"Country\":country}"
   ]
  },
  {
   "cell_type": "code",
   "execution_count": 15,
   "id": "13e2a5b4",
   "metadata": {},
   "outputs": [],
   "source": [
    "df = pd.DataFrame(data)"
   ]
  },
  {
   "cell_type": "code",
   "execution_count": 16,
   "id": "4430ba1c",
   "metadata": {},
   "outputs": [
    {
     "data": {
      "text/html": [
       "<div>\n",
       "<style scoped>\n",
       "    .dataframe tbody tr th:only-of-type {\n",
       "        vertical-align: middle;\n",
       "    }\n",
       "\n",
       "    .dataframe tbody tr th {\n",
       "        vertical-align: top;\n",
       "    }\n",
       "\n",
       "    .dataframe thead th {\n",
       "        text-align: right;\n",
       "    }\n",
       "</style>\n",
       "<table border=\"1\" class=\"dataframe\">\n",
       "  <thead>\n",
       "    <tr style=\"text-align: right;\">\n",
       "      <th></th>\n",
       "      <th>Titles</th>\n",
       "      <th>discb</th>\n",
       "      <th>Number_of_emp</th>\n",
       "      <th>salary_per_hour</th>\n",
       "      <th>project_budget</th>\n",
       "      <th>Country</th>\n",
       "    </tr>\n",
       "  </thead>\n",
       "  <tbody>\n",
       "    <tr>\n",
       "      <th>0</th>\n",
       "      <td>Polestar Solutions</td>\n",
       "      <td>Polestar Solutions enable enterprises in their...</td>\n",
       "      <td>51 to 250</td>\n",
       "      <td>$26 - $50</td>\n",
       "      <td>$10001 - $25000</td>\n",
       "      <td>$10001 - $25000</td>\n",
       "    </tr>\n",
       "    <tr>\n",
       "      <th>1</th>\n",
       "      <td>PerceptionBox</td>\n",
       "      <td>PerceptionBox is a top-notch, full cycle and c...</td>\n",
       "      <td>51 to 250</td>\n",
       "      <td>$26 - $50</td>\n",
       "      <td>$10001 - $25000</td>\n",
       "      <td>$10001 - $25000</td>\n",
       "    </tr>\n",
       "    <tr>\n",
       "      <th>2</th>\n",
       "      <td>Adoriasoft</td>\n",
       "      <td>We develop software products for startups and ...</td>\n",
       "      <td>11 to 50</td>\n",
       "      <td>$51 - $100</td>\n",
       "      <td>$10001 - $25000</td>\n",
       "      <td>$10001 - $25000</td>\n",
       "    </tr>\n",
       "    <tr>\n",
       "      <th>3</th>\n",
       "      <td>Emorphis Technologies</td>\n",
       "      <td>Emorphis Technologies is a leading software de...</td>\n",
       "      <td>51 to 250</td>\n",
       "      <td>$26 - $50</td>\n",
       "      <td>Less than - $5000</td>\n",
       "      <td>Less than - $5000</td>\n",
       "    </tr>\n",
       "    <tr>\n",
       "      <th>4</th>\n",
       "      <td>ITRex Group</td>\n",
       "      <td>ITRex is a software development company specia...</td>\n",
       "      <td>251 to 1000</td>\n",
       "      <td>$26 - $50</td>\n",
       "      <td>$50001 - $100000</td>\n",
       "      <td>$50001 - $100000</td>\n",
       "    </tr>\n",
       "    <tr>\n",
       "      <th>...</th>\n",
       "      <td>...</td>\n",
       "      <td>...</td>\n",
       "      <td>...</td>\n",
       "      <td>...</td>\n",
       "      <td>...</td>\n",
       "      <td>...</td>\n",
       "    </tr>\n",
       "    <tr>\n",
       "      <th>940</th>\n",
       "      <td>Lumenta Digital Icn.</td>\n",
       "      <td>Lumenta Digital is a full-service marketing ag...</td>\n",
       "      <td>11 to 50</td>\n",
       "      <td>$51 - $100</td>\n",
       "      <td>Less than - $5000</td>\n",
       "      <td>Less than - $5000</td>\n",
       "    </tr>\n",
       "    <tr>\n",
       "      <th>941</th>\n",
       "      <td>Spiral Mantra Pvt Ltd.</td>\n",
       "      <td>We have highly skilled engineers with in-depth...</td>\n",
       "      <td>11 to 50</td>\n",
       "      <td>$26 - $50</td>\n",
       "      <td>$5001 - $10000</td>\n",
       "      <td>$5001 - $10000</td>\n",
       "    </tr>\n",
       "    <tr>\n",
       "      <th>942</th>\n",
       "      <td>Sync4Tech</td>\n",
       "      <td>Sync4Tech is your global software development ...</td>\n",
       "      <td>51 to 250</td>\n",
       "      <td>$26 - $50</td>\n",
       "      <td>$5001 - $10000</td>\n",
       "      <td>$5001 - $10000</td>\n",
       "    </tr>\n",
       "    <tr>\n",
       "      <th>943</th>\n",
       "      <td>Deftsoft</td>\n",
       "      <td>Deftsoft is a thriving tech company that provi...</td>\n",
       "      <td>251 to 1000</td>\n",
       "      <td>Up to $25</td>\n",
       "      <td>Less than - $5000</td>\n",
       "      <td>Less than - $5000</td>\n",
       "    </tr>\n",
       "    <tr>\n",
       "      <th>944</th>\n",
       "      <td>Apptware Solutions</td>\n",
       "      <td>At Apptware AI Lab, we offercutting-edge solut...</td>\n",
       "      <td>51 to 250</td>\n",
       "      <td>$51 - $100</td>\n",
       "      <td>$5001 - $10000</td>\n",
       "      <td>$5001 - $10000</td>\n",
       "    </tr>\n",
       "  </tbody>\n",
       "</table>\n",
       "<p>945 rows × 6 columns</p>\n",
       "</div>"
      ],
      "text/plain": [
       "                     Titles  \\\n",
       "0        Polestar Solutions   \n",
       "1             PerceptionBox   \n",
       "2                Adoriasoft   \n",
       "3     Emorphis Technologies   \n",
       "4               ITRex Group   \n",
       "..                      ...   \n",
       "940    Lumenta Digital Icn.   \n",
       "941  Spiral Mantra Pvt Ltd.   \n",
       "942               Sync4Tech   \n",
       "943                Deftsoft   \n",
       "944      Apptware Solutions   \n",
       "\n",
       "                                                 discb Number_of_emp  \\\n",
       "0    Polestar Solutions enable enterprises in their...     51 to 250   \n",
       "1    PerceptionBox is a top-notch, full cycle and c...     51 to 250   \n",
       "2    We develop software products for startups and ...      11 to 50   \n",
       "3    Emorphis Technologies is a leading software de...     51 to 250   \n",
       "4    ITRex is a software development company specia...   251 to 1000   \n",
       "..                                                 ...           ...   \n",
       "940  Lumenta Digital is a full-service marketing ag...      11 to 50   \n",
       "941  We have highly skilled engineers with in-depth...      11 to 50   \n",
       "942  Sync4Tech is your global software development ...     51 to 250   \n",
       "943  Deftsoft is a thriving tech company that provi...   251 to 1000   \n",
       "944  At Apptware AI Lab, we offercutting-edge solut...     51 to 250   \n",
       "\n",
       "    salary_per_hour     project_budget            Country  \n",
       "0         $26 - $50    $10001 - $25000    $10001 - $25000  \n",
       "1         $26 - $50    $10001 - $25000    $10001 - $25000  \n",
       "2        $51 - $100    $10001 - $25000    $10001 - $25000  \n",
       "3         $26 - $50  Less than - $5000  Less than - $5000  \n",
       "4         $26 - $50   $50001 - $100000   $50001 - $100000  \n",
       "..              ...                ...                ...  \n",
       "940      $51 - $100  Less than - $5000  Less than - $5000  \n",
       "941       $26 - $50     $5001 - $10000     $5001 - $10000  \n",
       "942       $26 - $50     $5001 - $10000     $5001 - $10000  \n",
       "943       Up to $25  Less than - $5000  Less than - $5000  \n",
       "944      $51 - $100     $5001 - $10000     $5001 - $10000  \n",
       "\n",
       "[945 rows x 6 columns]"
      ]
     },
     "execution_count": 16,
     "metadata": {},
     "output_type": "execute_result"
    }
   ],
   "source": [
    "df"
   ]
  },
  {
   "cell_type": "code",
   "execution_count": 17,
   "id": "e2e104a2",
   "metadata": {},
   "outputs": [
    {
     "data": {
      "text/html": [
       "<div>\n",
       "<style scoped>\n",
       "    .dataframe tbody tr th:only-of-type {\n",
       "        vertical-align: middle;\n",
       "    }\n",
       "\n",
       "    .dataframe tbody tr th {\n",
       "        vertical-align: top;\n",
       "    }\n",
       "\n",
       "    .dataframe thead th {\n",
       "        text-align: right;\n",
       "    }\n",
       "</style>\n",
       "<table border=\"1\" class=\"dataframe\">\n",
       "  <thead>\n",
       "    <tr style=\"text-align: right;\">\n",
       "      <th></th>\n",
       "      <th>Titles</th>\n",
       "      <th>discb</th>\n",
       "      <th>Number_of_emp</th>\n",
       "      <th>salary_per_hour</th>\n",
       "      <th>project_budget</th>\n",
       "      <th>Country</th>\n",
       "    </tr>\n",
       "  </thead>\n",
       "  <tbody>\n",
       "    <tr>\n",
       "      <th>940</th>\n",
       "      <td>Lumenta Digital Icn.</td>\n",
       "      <td>Lumenta Digital is a full-service marketing ag...</td>\n",
       "      <td>11 to 50</td>\n",
       "      <td>$51 - $100</td>\n",
       "      <td>Less than - $5000</td>\n",
       "      <td>Less than - $5000</td>\n",
       "    </tr>\n",
       "    <tr>\n",
       "      <th>941</th>\n",
       "      <td>Spiral Mantra Pvt Ltd.</td>\n",
       "      <td>We have highly skilled engineers with in-depth...</td>\n",
       "      <td>11 to 50</td>\n",
       "      <td>$26 - $50</td>\n",
       "      <td>$5001 - $10000</td>\n",
       "      <td>$5001 - $10000</td>\n",
       "    </tr>\n",
       "    <tr>\n",
       "      <th>942</th>\n",
       "      <td>Sync4Tech</td>\n",
       "      <td>Sync4Tech is your global software development ...</td>\n",
       "      <td>51 to 250</td>\n",
       "      <td>$26 - $50</td>\n",
       "      <td>$5001 - $10000</td>\n",
       "      <td>$5001 - $10000</td>\n",
       "    </tr>\n",
       "    <tr>\n",
       "      <th>943</th>\n",
       "      <td>Deftsoft</td>\n",
       "      <td>Deftsoft is a thriving tech company that provi...</td>\n",
       "      <td>251 to 1000</td>\n",
       "      <td>Up to $25</td>\n",
       "      <td>Less than - $5000</td>\n",
       "      <td>Less than - $5000</td>\n",
       "    </tr>\n",
       "    <tr>\n",
       "      <th>944</th>\n",
       "      <td>Apptware Solutions</td>\n",
       "      <td>At Apptware AI Lab, we offercutting-edge solut...</td>\n",
       "      <td>51 to 250</td>\n",
       "      <td>$51 - $100</td>\n",
       "      <td>$5001 - $10000</td>\n",
       "      <td>$5001 - $10000</td>\n",
       "    </tr>\n",
       "  </tbody>\n",
       "</table>\n",
       "</div>"
      ],
      "text/plain": [
       "                     Titles  \\\n",
       "940    Lumenta Digital Icn.   \n",
       "941  Spiral Mantra Pvt Ltd.   \n",
       "942               Sync4Tech   \n",
       "943                Deftsoft   \n",
       "944      Apptware Solutions   \n",
       "\n",
       "                                                 discb Number_of_emp  \\\n",
       "940  Lumenta Digital is a full-service marketing ag...      11 to 50   \n",
       "941  We have highly skilled engineers with in-depth...      11 to 50   \n",
       "942  Sync4Tech is your global software development ...     51 to 250   \n",
       "943  Deftsoft is a thriving tech company that provi...   251 to 1000   \n",
       "944  At Apptware AI Lab, we offercutting-edge solut...     51 to 250   \n",
       "\n",
       "    salary_per_hour     project_budget            Country  \n",
       "940      $51 - $100  Less than - $5000  Less than - $5000  \n",
       "941       $26 - $50     $5001 - $10000     $5001 - $10000  \n",
       "942       $26 - $50     $5001 - $10000     $5001 - $10000  \n",
       "943       Up to $25  Less than - $5000  Less than - $5000  \n",
       "944      $51 - $100     $5001 - $10000     $5001 - $10000  "
      ]
     },
     "execution_count": 17,
     "metadata": {},
     "output_type": "execute_result"
    }
   ],
   "source": [
    "df.tail()"
   ]
  },
  {
   "cell_type": "code",
   "execution_count": null,
   "id": "7ee7c46b",
   "metadata": {},
   "outputs": [],
   "source": []
  },
  {
   "cell_type": "code",
   "execution_count": null,
   "id": "6032c469",
   "metadata": {},
   "outputs": [],
   "source": []
  },
  {
   "cell_type": "code",
   "execution_count": null,
   "id": "0e9464a2",
   "metadata": {},
   "outputs": [],
   "source": []
  },
  {
   "cell_type": "code",
   "execution_count": null,
   "id": "1bdf30a5",
   "metadata": {},
   "outputs": [],
   "source": []
  },
  {
   "cell_type": "code",
   "execution_count": null,
   "id": "a821afaa",
   "metadata": {},
   "outputs": [],
   "source": []
  },
  {
   "cell_type": "code",
   "execution_count": null,
   "id": "11e7b19c",
   "metadata": {},
   "outputs": [],
   "source": []
  }
 ],
 "metadata": {
  "hide_input": false,
  "kernelspec": {
   "display_name": "Python 3 (ipykernel)",
   "language": "python",
   "name": "python3"
  },
  "language_info": {
   "codemirror_mode": {
    "name": "ipython",
    "version": 3
   },
   "file_extension": ".py",
   "mimetype": "text/x-python",
   "name": "python",
   "nbconvert_exporter": "python",
   "pygments_lexer": "ipython3",
   "version": "3.11.5"
  }
 },
 "nbformat": 4,
 "nbformat_minor": 5
}
